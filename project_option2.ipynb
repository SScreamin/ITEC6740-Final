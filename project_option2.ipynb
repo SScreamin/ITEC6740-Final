{
    "cells": [
        {
            "cell_type": "markdown",
            "source": [
                "<h1>ITEC 6740 Final Project</h1>\r\n",
                "\r\n",
                "<h3>Company News Article Sentiment Analysis</h3>\r\n",
                "\r\n",
                "<p>Based off tutorial here: https://www.youtube.com/watch?v=o-zM8onpQZY</p>"
            ],
            "metadata": {}
        },
        {
            "cell_type": "code",
            "execution_count": 52,
            "source": [
                "# Import necessary libraries\r\n",
                "\r\n",
                "from urllib.request import urlopen, Request\r\n",
                "from bs4 import BeautifulSoup\r\n",
                "from nltk.sentiment.vader import SentimentIntensityAnalyzer\r\n",
                "import pandas as pd\r\n",
                "import matplotlib.pyplot as plt\r\n",
                "%matplotlib inline"
            ],
            "outputs": [],
            "metadata": {}
        },
        {
            "cell_type": "code",
            "execution_count": 53,
            "source": [
                "# Finviz url where news articles are pulled from\r\n",
                "finviz_url = \"https://finviz.com/quote.ashx?t=\"\r\n",
                "\r\n",
                "# Tickers appended to the url each corresponding to an organization\r\n",
                "tickers =[\"AMZN\", \"GOOGL\", \"AAPL\"]\r\n",
                "\r\n",
                "# All the news articles are located in a table with id 'news-table'\r\n",
                "# Store this information in a dictionary\r\n",
                "news_tables = {}\r\n",
                "\r\n",
                "# loop through the tickers, construct the urls, pull the news tables\r\n",
                "for ticker in tickers:\r\n",
                "    # construct the url and create the request\r\n",
                "    url = finviz_url + ticker\r\n",
                "    req = Request(url=url, headers={'user-agent': 'my-app'})\r\n",
                "    # open the request\r\n",
                "    response = urlopen(req)\r\n",
                "    \r\n",
                "    # parse the html response\r\n",
                "    html = BeautifulSoup(response, 'html')\r\n",
                "\r\n",
                "    # find the news table object\r\n",
                "    news_table = html.find(id=\"news-table\")\r\n",
                "    # store it in the dictionary with the appropriate ticker as the key\r\n",
                "    news_tables[ticker] = news_table"
            ],
            "outputs": [],
            "metadata": {}
        },
        {
            "cell_type": "code",
            "execution_count": 54,
            "source": [
                "# Parse the tables to retrieve relevant information\r\n",
                "\r\n",
                "# List to store the parsed data\r\n",
                "parsed_data = []\r\n",
                "\r\n",
                "# Iterate through the dictionary of news tables\r\n",
                "for ticker, news_table in news_tables.items():\r\n",
                "    # Retrieve the text and date data from the news tables by parsing table rows\r\n",
                "    for row in news_table.findAll('tr'):\r\n",
                "        title = row.a.get_text()\r\n",
                "        # date has two parts: day and time separated by a space\r\n",
                "        date_data = row.td.text.split(\" \")\r\n",
                "\r\n",
                "        # If there is an occurence where there is only a time\r\n",
                "        if len(date_data) == 1:\r\n",
                "            time = date_data[0]\r\n",
                "        # Otherwise, there is both a date and time\r\n",
                "        else:\r\n",
                "            date = date_data[0]\r\n",
                "            time = date_data[1]\r\n",
                "\r\n",
                "        parsed_data.append([ticker, date, time, title])"
            ],
            "outputs": [],
            "metadata": {}
        },
        {
            "cell_type": "code",
            "execution_count": 55,
            "source": [
                "# convert parsed_data to a data frame\r\n",
                "df = pd.DataFrame(parsed_data, columns=[\"ticker\", \"date\", \"time\", \"title\"])\r\n",
                "\r\n",
                "# intialize vader sentiment analysis\r\n",
                "vader = SentimentIntensityAnalyzer()\r\n",
                "\r\n",
                "# function to calculate the polarity scores for every title, only interested in the compound score\r\n",
                "f = lambda title: vader.polarity_scores(title)[\"compound\"]\r\n",
                "\r\n",
                "# store the compound polarity scores in a new column called 'compound'\r\n",
                "# apply the function to every title in the dataframe\r\n",
                "df[\"compound\"] = df[\"title\"].apply(f)\r\n",
                "\r\n",
                "# convert the date column to datetime objects\r\n",
                "df[\"date\"] = pd.to_datetime(df.date).dt.date"
            ],
            "outputs": [],
            "metadata": {}
        },
        {
            "cell_type": "code",
            "execution_count": 58,
            "source": [
                "# visualize sentiment analysis\r\n",
                "\r\n",
                "# set figure size\r\n",
                "plt.figure(figsize=(10,8))\r\n",
                "\r\n",
                "# create a new dataframe grouped by ticker and date with mean compound scores calculated\r\n",
                "mean_df = df.groupby([\"ticker\", \"date\"]).mean()\r\n",
                "\r\n",
                "# basically makes the dates column labels, each date has a mean compound score\r\n",
                "mean_df = mean_df.unstack()\r\n",
                "\r\n",
                "# removes the compound column left over by the unstack\r\n",
                "mean_df = mean_df.xs(\"compound\", axis=\"columns\").transpose()\r\n",
                "\r\n",
                "# create a bar plot and show it\r\n",
                "mean_df.plot(kind=\"bar\")\r\n",
                "plt.show()"
            ],
            "outputs": [
                {
                    "output_type": "stream",
                    "name": "stdout",
                    "text": [
                        "                   compound\n",
                        "ticker date                \n",
                        "AAPL   2021-07-14  0.157976\n",
                        "       2021-07-15  0.043181\n",
                        "       2021-07-16  0.032548\n",
                        "       2021-07-17  0.100475\n",
                        "       2021-07-18  0.000000\n",
                        "       2021-07-19  0.150160\n",
                        "AMZN   2021-07-14  0.171612\n",
                        "       2021-07-15  0.178868\n",
                        "       2021-07-16  0.033050\n",
                        "       2021-07-17  0.147733\n",
                        "       2021-07-18  0.028377\n",
                        "       2021-07-19  0.139595\n",
                        "GOOGL  2021-07-12 -0.028063\n",
                        "       2021-07-13 -0.035419\n",
                        "       2021-07-14  0.017127\n",
                        "       2021-07-15 -0.079687\n",
                        "       2021-07-16  0.021653\n",
                        "       2021-07-17  0.035575\n",
                        "       2021-07-18 -0.052000\n",
                        "       2021-07-19  0.057162\n",
                        "         compound                                                         \\\n",
                        "date   2021-07-12 2021-07-13 2021-07-14 2021-07-15 2021-07-16 2021-07-17   \n",
                        "ticker                                                                     \n",
                        "AAPL          NaN        NaN   0.157976   0.043181   0.032548   0.100475   \n",
                        "AMZN          NaN        NaN   0.171612   0.178868   0.033050   0.147733   \n",
                        "GOOGL   -0.028063  -0.035419   0.017127  -0.079687   0.021653   0.035575   \n",
                        "\n",
                        "                              \n",
                        "date   2021-07-18 2021-07-19  \n",
                        "ticker                        \n",
                        "AAPL     0.000000   0.150160  \n",
                        "AMZN     0.028377   0.139595  \n",
                        "GOOGL   -0.052000   0.057162  \n"
                    ]
                },
                {
                    "output_type": "display_data",
                    "data": {
                        "text/plain": [
                            "<Figure size 720x576 with 0 Axes>"
                        ]
                    },
                    "metadata": {}
                },
                {
                    "output_type": "display_data",
                    "data": {
                        "text/plain": [
                            "<Figure size 432x288 with 1 Axes>"
                        ],
                        "image/png": "[encoded data removed]"
                    },
                    "metadata": {
                        "needs_background": "light"
                    }
                }
            ],
            "metadata": {}
        }
    ],
    "metadata": {
        "orig_nbformat": 4,
        "language_info": {
            "name": "python"
        }
    },
    "nbformat": 4,
    "nbformat_minor": 2
}