{
    "cells": [
        {
            "cell_type": "markdown",
            "source": [
                "<h1>ITEC 6740 Final Project</h1>\r\n",
                "\r\n",
                "<h3>Company News Article Sentiment Analysis</h3>"
            ],
            "metadata": {}
        }
    ],
    "metadata": {
        "orig_nbformat": 4,
        "language_info": {
            "name": "python"
        }
    },
    "nbformat": 4,
    "nbformat_minor": 2
}