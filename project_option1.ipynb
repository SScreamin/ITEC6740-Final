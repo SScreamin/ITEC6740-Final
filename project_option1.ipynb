{
    "cells": [
        {
            "cell_type": "markdown",
            "source": [
                "<h1>ITEC 6740 Final Project</h1>\r\n",
                "\r\n",
                "<h3>Twitter Sentiment Analysis</h3>"
            ],
            "metadata": {}
        },
        {
            "cell_type": "code",
            "execution_count": 1,
            "source": [
                "# Import necessary libraries\r\n",
                "\r\n",
                "import tweepy\r\n",
                "from textblob import TextBlob\r\n",
                "from wordcloud import WordCloud\r\n",
                "import pandas as pd\r\n",
                "import numpy as np\r\n",
                "import re\r\n",
                "import matplotlib.pyplot as plt\r\n",
                "plt.style.use('fivethirtyeight')"
            ],
            "outputs": [],
            "metadata": {}
        },
        {
            "cell_type": "code",
            "execution_count": null,
            "source": [],
            "outputs": [],
            "metadata": {}
        }
    ],
    "metadata": {
        "orig_nbformat": 4,
        "language_info": {
            "name": "python"
        }
    },
    "nbformat": 4,
    "nbformat_minor": 2
}